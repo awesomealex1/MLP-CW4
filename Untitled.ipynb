{
 "cells": [
  {
   "cell_type": "code",
   "execution_count": 1,
   "id": "e6990d5a",
   "metadata": {},
   "outputs": [],
   "source": [
    "import json"
   ]
  },
  {
   "cell_type": "code",
   "execution_count": 2,
   "id": "83c9e885",
   "metadata": {},
   "outputs": [],
   "source": [
    "with open('predictions_01_alpha_base_2wiki/ircot_qa_flan_t5_base_2wikimultihopqa____ircot_qa____2wikimultihopqa_to_2wikimultihopqa__best/prediction__2wikimultihopqa_to_2wikimultihopqa__test_subsampled.json', 'r') as f:\n",
    "    cad_preds = json.load(f)\n",
    "\n",
    "with open('predictions_0_alpha_base_2wiki/ircot_qa_flan_t5_base_2wikimultihopqa____ircot_qa____2wikimultihopqa_to_2wikimultihopqa__best/prediction__2wikimultihopqa_to_2wikimultihopqa__test_subsampled.json', 'r') as f:\n",
    "    no_cad_preds = json.load(f)\n",
    "\n",
    "with open('predictions_01_alpha_base_2wiki/ircot_qa_flan_t5_base_2wikimultihopqa____ircot_qa____2wikimultihopqa_to_2wikimultihopqa__best/ground_truth__2wikimultihopqa_to_2wikimultihopqa__test_subsampled.json', 'r') as f:\n",
    "    ground_truth = json.load(f)"
   ]
  },
  {
   "cell_type": "code",
   "execution_count": 3,
   "id": "7ecfbb43",
   "metadata": {},
   "outputs": [
    {
     "name": "stdout",
     "output_type": "stream",
     "text": [
      "Number of matches CAD: 104\n"
     ]
    }
   ],
   "source": [
    "# Initialize a counter for the number of matches\n",
    "num_matches = 0\n",
    "\n",
    "# Iterate over each key in the ground truth data\n",
    "for key in ground_truth:\n",
    "    # Check if the key exists in the predictions data\n",
    "    if key in cad_preds:\n",
    "        # Get the ground truth value and the predicted value\n",
    "        ground_truth_value = ground_truth[key][0]\n",
    "        predicted_value = cad_preds[key]\n",
    "        \n",
    "        # Compare the ground truth value with the predicted value\n",
    "        if ground_truth_value == predicted_value:\n",
    "            num_matches += 1\n",
    "\n",
    "# Print the number of matches\n",
    "print(f\"Number of matches CAD: {num_matches}\")"
   ]
  },
  {
   "cell_type": "code",
   "execution_count": 4,
   "id": "0a7d1325",
   "metadata": {},
   "outputs": [
    {
     "name": "stdout",
     "output_type": "stream",
     "text": [
      "Number of matches no CAD: 96\n"
     ]
    }
   ],
   "source": [
    "# Initialize a counter for the number of matches\n",
    "num_matches = 0\n",
    "\n",
    "# Iterate over each key in the ground truth data\n",
    "for key in ground_truth:\n",
    "    # Check if the key exists in the predictions data\n",
    "    if key in no_cad_preds:\n",
    "        # Get the ground truth value and the predicted value\n",
    "        ground_truth_value = ground_truth[key][0]\n",
    "        predicted_value = no_cad_preds[key]\n",
    "        \n",
    "        # Compare the ground truth value with the predicted value\n",
    "        if ground_truth_value == predicted_value:\n",
    "            num_matches += 1\n",
    "\n",
    "# Print the number of matches\n",
    "print(f\"Number of matches no CAD: {num_matches}\")"
   ]
  },
  {
   "cell_type": "code",
   "execution_count": null,
   "id": "00a14336",
   "metadata": {},
   "outputs": [],
   "source": []
  }
 ],
 "metadata": {
  "kernelspec": {
   "display_name": "Python 3 (ipykernel)",
   "language": "python",
   "name": "python3"
  },
  "language_info": {
   "codemirror_mode": {
    "name": "ipython",
    "version": 3
   },
   "file_extension": ".py",
   "mimetype": "text/x-python",
   "name": "python",
   "nbconvert_exporter": "python",
   "pygments_lexer": "ipython3",
   "version": "3.9.18"
  }
 },
 "nbformat": 4,
 "nbformat_minor": 5
}
